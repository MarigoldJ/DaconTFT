{
 "cells": [
  {
   "cell_type": "markdown",
   "metadata": {},
   "source": [
    "# 예보 데이터 불러오기\n",
    "[인증키 확인](https://data.go.kr/iim/api/selectAPIAcountView.do)"
   ]
  },
  {
   "cell_type": "code",
   "execution_count": null,
   "metadata": {},
   "outputs": [],
   "source": [
    "! pip install xmltodict"
   ]
  },
  {
   "cell_type": "code",
   "execution_count": 2,
   "metadata": {},
   "outputs": [],
   "source": [
    "import pandas as pd\n",
    "from urllib.parse import urlencode, quote_plus\n",
    "from urllib.request import urlopen\n",
    "import json\n",
    "import xmltodict"
   ]
  },
  {
   "cell_type": "code",
   "execution_count": 3,
   "metadata": {},
   "outputs": [
    {
     "name": "stdout",
     "output_type": "stream",
     "text": [
      "encoded api key를 입력해주세요 > ㅁ\n"
     ]
    }
   ],
   "source": [
    "# API\n",
    "ServiceKey = input('encoded api key를 입력해주세요 > ')"
   ]
  },
  {
   "cell_type": "code",
   "execution_count": null,
   "metadata": {},
   "outputs": [],
   "source": [
    "# ulsan 좌표\n",
    "x = 102\n",
    "y = 83\n",
    "\n",
    "url_base = 'http://apis.data.go.kr/1360000/VilageFcstInfoService/getUltraSrtFcst'\n",
    "key = ServiceKey\n",
    "queryParams = urlencode({\n",
    "    # quote_plus('ServiceKey'): key,\n",
    "    quote_plus('numOfRows'): '113',      # 불러오고 싶은만큼 가져오기\n",
    "    quote_plus('dataType'): 'XML',\n",
    "    quote_plus('base_date'): '20210530', # 예보 발표 날짜\n",
    "    quote_plus('base_time'): '1000',     # 예보 발표 시간\n",
    "    quote_plus('nx'): str(x),\n",
    "    quote_plus('ny'): str(y),\n",
    "})\n",
    "\n",
    "url = f'{url_base}?serviceKey={key}&{queryParams}'\n",
    "response = urlopen(url)\n",
    "results = response.read().decode('utf-8')\n",
    "results_json = xmltodict.parse(results)\n",
    "\n",
    "data = json.loads(json.dumps(results_json))\n",
    "\n",
    "if 'ERROR' in data['response']['header']['resultMsg']:\n",
    "    print('Fail.')\n",
    "else:\n",
    "    print('Success!')"
   ]
  },
  {
   "cell_type": "code",
   "execution_count": null,
   "metadata": {},
   "outputs": [],
   "source": [
    "# data 대강 확인하기\n",
    "data"
   ]
  },
  {
   "cell_type": "code",
   "execution_count": null,
   "metadata": {},
   "outputs": [],
   "source": [
    "logs = data['response']['body']['items']['item']\n",
    "df = pd.DataFrame()\n",
    "\n",
    "for log in logs:\n",
    "    s_tmp = pd.Series(log)\n",
    "    df_tmp = pd.DataFrame(s_tmp)\n",
    "    df = pd.concat([df, df_tmp.T])\n",
    "\n",
    "def fcst_time(time):\n",
    "    temp = f'{time[:4]}-{time[4:6]}-{time[6:8]} {time[9:11]}:{time[11:]}'\n",
    "    datetime = pd.to_datetime(temp)\n",
    "    return datetime\n",
    "\n",
    "df['time'] = df[['fcstDate', 'fcstTime']].apply(lambda t: ' '.join(t), axis=1)\n",
    "df['time'] = df['time'].apply(fcst_time)\n",
    "\n",
    "fcst_df = pd.DataFrame(columns=['time', 'fcst_temp', 'fcst_hum', 'fcst_wspeed',\n",
    "                                'fcst_wdirect', 'fcst_cloud'])\n",
    "\n",
    "df"
   ]
  },
  {
   "cell_type": "code",
   "execution_count": null,
   "metadata": {},
   "outputs": [],
   "source": []
  }
 ],
 "metadata": {
  "kernelspec": {
   "display_name": "Python 3",
   "language": "python",
   "name": "python3"
  },
  "language_info": {
   "codemirror_mode": {
    "name": "ipython",
    "version": 3
   },
   "file_extension": ".py",
   "mimetype": "text/x-python",
   "name": "python",
   "nbconvert_exporter": "python",
   "pygments_lexer": "ipython3",
   "version": "3.8.5"
  }
 },
 "nbformat": 4,
 "nbformat_minor": 4
}
