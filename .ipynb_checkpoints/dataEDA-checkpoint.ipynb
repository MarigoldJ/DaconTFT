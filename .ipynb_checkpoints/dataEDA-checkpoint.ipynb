{
 "cells": [
  {
   "cell_type": "code",
   "execution_count": 1,
   "metadata": {},
   "outputs": [],
   "source": [
    "from config import folder\n",
    "import pandas as pd\n",
    "import numpy as np\n",
    "\n",
    "pd.set_option('max_rows', 15)\n",
    "pd.set_option('max_columns', 15)\n",
    "\n",
    "path_fcst = folder.get_dataset_path('ulsan_fcst_data.csv')\n",
    "path_obs = folder.get_dataset_path('ulsan_obs_data.csv')\n",
    "\n",
    "\n",
    "df_fcst = pd.read_csv(path_fcst)\n",
    "df_obs = pd.read_csv(path_obs)"
   ]
  },
  {
   "cell_type": "code",
   "execution_count": 2,
   "metadata": {},
   "outputs": [
    {
     "name": "stdout",
     "output_type": "stream",
     "text": [
      "<class 'pandas.core.frame.DataFrame'>\n",
      "RangeIndex: 162208 entries, 0 to 162207\n",
      "Data columns (total 7 columns):\n",
      " #   Column         Non-Null Count   Dtype  \n",
      "---  ------         --------------   -----  \n",
      " 0   Forecast time  162208 non-null  object \n",
      " 1   forecast       162208 non-null  float64\n",
      " 2   Temperature    162208 non-null  float64\n",
      " 3   Humidity       162208 non-null  float64\n",
      " 4   WindSpeed      162208 non-null  float64\n",
      " 5   WindDirection  162208 non-null  float64\n",
      " 6   Cloud          162208 non-null  float64\n",
      "dtypes: float64(6), object(1)\n",
      "memory usage: 8.7+ MB\n"
     ]
    }
   ],
   "source": [
    "df_fcst.info()"
   ]
  },
  {
   "cell_type": "code",
   "execution_count": 5,
   "metadata": {},
   "outputs": [
    {
     "name": "stdout",
     "output_type": "stream",
     "text": [
      "Forecast time   | object\n",
      "forecast        | float64\n",
      "Temperature     | float64\n",
      "Humidity        | float64\n",
      "WindSpeed       | float64\n",
      "WindDirection   | float64\n",
      "Cloud           | float64\n"
     ]
    }
   ],
   "source": [
    "for col in df_fcst.columns:\n",
    "    print(f'{col:<15} | {df_fcst[col].dtypes}')"
   ]
  },
  {
   "cell_type": "code",
   "execution_count": 13,
   "metadata": {},
   "outputs": [
    {
     "name": "stdout",
     "output_type": "stream",
     "text": [
      "지점 : int64\n",
      "지점명 : object\n",
      "일시 : object\n",
      "기온(°C) : float64\n",
      "풍속(m/s) : float64\n",
      "풍향(16방위) : float64\n",
      "습도(%) : float64\n",
      "전운량(10분위) : float64\n"
     ]
    }
   ],
   "source": [
    "for col in df_obs.columns:\n",
    "    print(f'{col} : {df_obs[col].dtypes}')"
   ]
  },
  {
   "cell_type": "code",
   "execution_count": 12,
   "metadata": {},
   "outputs": [
    {
     "data": {
      "text/plain": [
       "8"
      ]
     },
     "execution_count": 12,
     "metadata": {},
     "output_type": "execute_result"
    }
   ],
   "source": []
  },
  {
   "cell_type": "code",
   "execution_count": null,
   "metadata": {},
   "outputs": [],
   "source": []
  }
 ],
 "metadata": {
  "kernelspec": {
   "display_name": "Python 3",
   "language": "python",
   "name": "python3"
  },
  "language_info": {
   "codemirror_mode": {
    "name": "ipython",
    "version": 3
   },
   "file_extension": ".py",
   "mimetype": "text/x-python",
   "name": "python",
   "nbconvert_exporter": "python",
   "pygments_lexer": "ipython3",
   "version": "3.8.8"
  },
  "metadata": {
   "interpreter": {
    "hash": "ee5cc6fef2d70a7e71ee3826687cbd150f18158e0b1eef11d4f4f92bb920e304"
   }
  }
 },
 "nbformat": 4,
 "nbformat_minor": 2
}
