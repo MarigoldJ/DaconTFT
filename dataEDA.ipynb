{
 "cells": [
  {
   "cell_type": "code",
   "execution_count": 2,
   "metadata": {},
   "outputs": [],
   "source": [
    "from config import folder\n",
    "import pandas as pd\n",
    "import numpy as np\n",
    "\n",
    "pd.set_option('max_rows', 15)\n",
    "pd.set_option('max_columns', 15)\n",
    "\n",
    "path_fcst = folder.get_dataset_path('ulsan_fcst_data.csv')\n",
    "path_obs = folder.get_dataset_path('ulsan_obs_data.csv')\n",
    "\n",
    "\n",
    "df_fcst = pd.read_csv(path_fcst)\n",
    "df_obs = pd.read_csv(path_obs)"
   ]
  },
  {
   "cell_type": "code",
   "execution_count": 13,
   "metadata": {},
   "outputs": [
    {
     "output_type": "stream",
     "name": "stdout",
     "text": [
      "<example>\nForecast time    2018-03-01 11:00:00\nforecast                         4.0\nTemperature                      8.0\nHumidity                        20.0\nWindSpeed                       14.0\nWindDirection                  298.0\nCloud                            2.0\nName: 0, dtype: object\n\n<class 'pandas.core.frame.DataFrame'>\nRangeIndex: 162208 entries, 0 to 162207\nData columns (total 7 columns):\n #   Column         Non-Null Count   Dtype  \n---  ------         --------------   -----  \n 0   Forecast time  162208 non-null  object \n 1   forecast       162208 non-null  float64\n 2   Temperature    162208 non-null  float64\n 3   Humidity       162208 non-null  float64\n 4   WindSpeed      162208 non-null  float64\n 5   WindDirection  162208 non-null  float64\n 6   Cloud          162208 non-null  float64\ndtypes: float64(6), object(1)\nmemory usage: 8.7+ MB\nNone\n\n<dtypes>\nForecast time   | object\nforecast        | float64\nTemperature     | float64\nHumidity        | float64\nWindSpeed       | float64\nWindDirection   | float64\nCloud           | float64\n\n<how much null>\nForecast time   | 0\nforecast        | 0\nTemperature     | 0\nHumidity        | 0\nWindSpeed       | 0\nWindDirection   | 0\nCloud           | 0\n"
     ]
    }
   ],
   "source": [
    "# Forecast Dataset\n",
    "print('<example>')\n",
    "print(df_fcst.iloc[0])\n",
    "print()\n",
    "\n",
    "print(df_fcst.info())\n",
    "print()\n",
    "\n",
    "print('<dtypes>')\n",
    "for col in df_fcst.columns:\n",
    "    print(f'{col:<15} | {df_fcst[col].dtypes}')\n",
    "print()\n",
    "\n",
    "print('<how much null>')\n",
    "for col in df_fcst.columns:\n",
    "    print(f'{col:<15} | {df_fcst[col].isnull().sum()}')"
   ]
  },
  {
   "cell_type": "code",
   "execution_count": 14,
   "metadata": {},
   "outputs": [
    {
     "output_type": "stream",
     "name": "stdout",
     "text": [
      "<example>\n지점                        152\n지점명                        울산\n일시           2018-03-01 00:00\n기온(°C)                    8.2\n풍속(m/s)                   3.9\n풍향(16방위)                340.0\n습도(%)                    98.0\n전운량(10분위)                10.0\nName: 0, dtype: object\n\n<class 'pandas.core.frame.DataFrame'>\nRangeIndex: 25632 entries, 0 to 25631\nData columns (total 8 columns):\n #   Column     Non-Null Count  Dtype  \n---  ------     --------------  -----  \n 0   지점         25632 non-null  int64  \n 1   지점명        25632 non-null  object \n 2   일시         25632 non-null  object \n 3   기온(°C)     25628 non-null  float64\n 4   풍속(m/s)    25631 non-null  float64\n 5   풍향(16방위)   25631 non-null  float64\n 6   습도(%)      25631 non-null  float64\n 7   전운량(10분위)  24807 non-null  float64\ndtypes: float64(5), int64(1), object(2)\nmemory usage: 1.6+ MB\nNone\n\n<dtypes>\n지점 : int64\n지점명 : object\n일시 : object\n기온(°C) : float64\n풍속(m/s) : float64\n풍향(16방위) : float64\n습도(%) : float64\n전운량(10분위) : float64\n\n<how much null>\n지점 : 0\n지점명 : 0\n일시 : 0\n기온(°C) : 4\n풍속(m/s) : 1\n풍향(16방위) : 1\n습도(%) : 1\n전운량(10분위) : 825\n\n"
     ]
    }
   ],
   "source": [
    "# Observed Dataset\n",
    "print('<example>')\n",
    "print(df_obs.iloc[0])\n",
    "print()\n",
    "\n",
    "\n",
    "print(df_obs.info())\n",
    "print()\n",
    "\n",
    "print('<dtypes>')\n",
    "for col in df_obs.columns:\n",
    "    print(f'{col} : {df_obs[col].dtypes}')\n",
    "print()\n",
    "\n",
    "print('<how much null>')\n",
    "for col in df_obs.columns:\n",
    "    print(f'{col} : {df_obs[col].isnull().sum()}')\n",
    "print()"
   ]
  },
  {
   "cell_type": "code",
   "execution_count": 69,
   "metadata": {},
   "outputs": [
    {
     "output_type": "stream",
     "name": "stdout",
     "text": [
      "DatetimeIndex(['2018-03-01 00:00:00', '2018-03-01 01:00:00',\n               '2018-03-01 02:00:00', '2018-03-01 03:00:00',\n               '2018-03-01 04:00:00', '2018-03-01 05:00:00',\n               '2018-03-01 06:00:00', '2018-03-01 07:00:00',\n               '2018-03-01 08:00:00', '2018-03-01 09:00:00',\n               ...\n               '2021-01-31 14:00:00', '2021-01-31 15:00:00',\n               '2021-01-31 16:00:00', '2021-01-31 17:00:00',\n               '2021-01-31 18:00:00', '2021-01-31 19:00:00',\n               '2021-01-31 20:00:00', '2021-01-31 21:00:00',\n               '2021-01-31 22:00:00', '2021-01-31 23:00:00'],\n              dtype='datetime64[ns]', length=25632, freq=None)\n"
     ]
    }
   ],
   "source": [
    "delta = pd.to_timedelta(np.arange(len(df_obs)), unit='h')\n",
    "lta = pd.to_timedelta(np.arange(len(df_obs)), unit='h')\n",
    "time_start = pd.to_datetime(df_obs.loc[0, '일시'])\n",
    "\n",
    "time_base = time_start + delta\n",
    "print(time_base)"
   ]
  },
  {
   "cell_type": "code",
   "execution_count": 76,
   "metadata": {},
   "outputs": [
    {
     "output_type": "stream",
     "name": "stdout",
     "text": [
      "<class 'str'>\n"
     ]
    }
   ],
   "source": [
    "time_base_str = pd.DataFrame(time_base)\n",
    "time_base_str = time_base_str.astype('str')\n",
    "print(type(time_base_str.iloc[0, 0]))"
   ]
  },
  {
   "cell_type": "code",
   "execution_count": null,
   "metadata": {},
   "outputs": [],
   "source": [
    "# time_base 를 기준으로 fcst, obs data를 merge하면 좋을듯\n"
   ]
  },
  {
   "cell_type": "code",
   "execution_count": 15,
   "metadata": {},
   "outputs": [
    {
     "output_type": "stream",
     "name": "stdout",
     "text": [
      "<class 'str'>\n"
     ]
    }
   ],
   "source": [
    "a = df_fcst.loc[0, 'Forecast time']\n",
    "print(type(a))"
   ]
  },
  {
   "cell_type": "code",
   "execution_count": 20,
   "metadata": {},
   "outputs": [
    {
     "output_type": "stream",
     "name": "stdout",
     "text": [
      "2018-03-01 11:00:00\n"
     ]
    }
   ],
   "source": [
    "A = pd.to_datetime(a)\n",
    "print(A)"
   ]
  },
  {
   "cell_type": "code",
   "execution_count": 21,
   "metadata": {},
   "outputs": [
    {
     "output_type": "stream",
     "name": "stdout",
     "text": [
      "2018-03-01 12:00:00\n"
     ]
    }
   ],
   "source": [
    "B = A + pd.Timedelta(hours=1)\n",
    "print(B)"
   ]
  },
  {
   "cell_type": "code",
   "execution_count": 28,
   "metadata": {},
   "outputs": [
    {
     "output_type": "stream",
     "name": "stdout",
     "text": [
      "TimedeltaIndex(['0 days 01:00:00', '0 days 02:00:00', '0 days 03:00:00',\n                '0 days 04:00:00', '0 days 05:00:00'],\n               dtype='timedelta64[ns]', freq='H')\n"
     ]
    }
   ],
   "source": [
    "delta = pd.timedelta_range(start=\"1h\", freq=\"1h\", periods=5)\n",
    "print(delta)"
   ]
  },
  {
   "cell_type": "code",
   "execution_count": 29,
   "metadata": {},
   "outputs": [
    {
     "output_type": "stream",
     "name": "stdout",
     "text": [
      "DatetimeIndex(['2018-03-01 12:00:00', '2018-03-01 13:00:00',\n               '2018-03-01 14:00:00', '2018-03-01 15:00:00',\n               '2018-03-01 16:00:00'],\n              dtype='datetime64[ns]', freq='H')\n"
     ]
    }
   ],
   "source": [
    "C = A + delta\n",
    "print(C)"
   ]
  },
  {
   "cell_type": "code",
   "execution_count": 50,
   "metadata": {},
   "outputs": [
    {
     "output_type": "stream",
     "name": "stdout",
     "text": [
      "                    0\n0 2018-03-01 12:00:00\n1 2018-03-01 13:00:00\n2 2018-03-01 14:00:00\n3 2018-03-01 15:00:00\n4 2018-03-01 16:00:00\n<class 'pandas.core.frame.DataFrame'>\n0    datetime64[ns]\ndtype: object\n"
     ]
    }
   ],
   "source": [
    "c = pd.DataFrame(C)\n",
    "print(c)\n",
    "print(type(c))\n",
    "print(c.dtypes)"
   ]
  },
  {
   "cell_type": "code",
   "execution_count": 55,
   "metadata": {},
   "outputs": [
    {
     "output_type": "stream",
     "name": "stdout",
     "text": [
      "0    2018-03-01 12:00:00\nName: 0, dtype: object\n"
     ]
    }
   ],
   "source": [
    "c1 = c.astype('str')\n",
    "# c2 = pd.to_datetime(c1)\n",
    "# print(c2)\n",
    "print(c1.loc[0])"
   ]
  },
  {
   "cell_type": "code",
   "execution_count": 58,
   "metadata": {},
   "outputs": [
    {
     "output_type": "stream",
     "name": "stdout",
     "text": [
      "hi 0    2018-03-01 12:00:00\nName: 0, dtype: object\n"
     ]
    }
   ],
   "source": [
    "print('hi', c1.loc[0])"
   ]
  },
  {
   "cell_type": "code",
   "execution_count": 63,
   "metadata": {},
   "outputs": [
    {
     "output_type": "stream",
     "name": "stdout",
     "text": [
      "<class 'pandas._libs.tslibs.timestamps.Timestamp'>\n<class 'pandas._libs.tslibs.timestamps.Timestamp'>\n<class 'pandas.core.indexes.datetimes.DatetimeIndex'>\n<class 'pandas._libs.tslibs.timedeltas.Timedelta'>\n<class 'pandas._libs.tslibs.timestamps.Timestamp'>\n"
     ]
    }
   ],
   "source": [
    "d = pd.to_timedelta(\"01:00:00\")\n",
    "print(type(A))\n",
    "print(type(B))\n",
    "print(type(C))\n",
    "print(type(d))\n",
    "print(type(B+d))"
   ]
  },
  {
   "cell_type": "code",
   "execution_count": 66,
   "metadata": {},
   "outputs": [
    {
     "output_type": "stream",
     "name": "stdout",
     "text": [
      "<class 'pandas._libs.tslibs.timedeltas.Timedelta'>\n"
     ]
    }
   ],
   "source": [
    "dd = pd.to_timedelta(np.arange(5), unit='h')\n",
    "print(type(dd[0]))"
   ]
  }
 ],
 "metadata": {
  "kernelspec": {
   "name": "python394jvsc74a57bd0ee5cc6fef2d70a7e71ee3826687cbd150f18158e0b1eef11d4f4f92bb920e304",
   "display_name": "Python 3.9.4 64-bit"
  },
  "language_info": {
   "codemirror_mode": {
    "name": "ipython",
    "version": 3
   },
   "file_extension": ".py",
   "mimetype": "text/x-python",
   "name": "python",
   "nbconvert_exporter": "python",
   "pygments_lexer": "ipython3",
   "version": "3.9.4"
  },
  "metadata": {
   "interpreter": {
    "hash": "ee5cc6fef2d70a7e71ee3826687cbd150f18158e0b1eef11d4f4f92bb920e304"
   }
  }
 },
 "nbformat": 4,
 "nbformat_minor": 2
}