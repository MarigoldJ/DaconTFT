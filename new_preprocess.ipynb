{
 "cells": [
  {
   "cell_type": "code",
   "execution_count": 21,
   "metadata": {},
   "outputs": [
    {
     "name": "stdout",
     "output_type": "stream",
     "text": [
      "import fin\n"
     ]
    }
   ],
   "source": [
    "import pandas as pd\n",
    "import numpy as np\n",
    "\n",
    "print('import fin')"
   ]
  },
  {
   "cell_type": "markdown",
   "metadata": {},
   "source": [
    "# base dataframe by datetime"
   ]
  },
  {
   "cell_type": "code",
   "execution_count": 22,
   "metadata": {},
   "outputs": [
    {
     "name": "stdout",
     "output_type": "stream",
     "text": [
      "Data starts from [ 2018-04-01 00:00:00 ] to [ 2021-01-31 23:00:00 ].\n",
      "Total length : 24888\n"
     ]
    },
    {
     "name": "stderr",
     "output_type": "stream",
     "text": [
      "<ipython-input-22-f563864df158>:18: FutureWarning: Series.dt.weekofyear and Series.dt.week have been deprecated.  Please use Series.dt.isocalendar().week instead.\n",
      "  data_base['week_of_year'] = data_base['date'].dt.week\n"
     ]
    }
   ],
   "source": [
    "# start and end time of data\n",
    "time_start = pd.to_datetime('2018-04-01 00:00:00')\n",
    "time_end = pd.to_datetime('2021-01-31 23:00:00')\n",
    "\n",
    "# how many time tags\n",
    "time_len = int((time_end - time_start) / pd.Timedelta(hours=1)) + 1\n",
    "\n",
    "# Make base dataframe\n",
    "delta = pd.to_timedelta(np.arange(time_len), unit='h')\n",
    "time_base = time_start + delta\n",
    "\n",
    "# set base\n",
    "data_base = pd.DataFrame()\n",
    "data_base['date'] = time_base\n",
    "data_base['time_idx'] = data_base.index\n",
    "\n",
    "data_base['month'] = data_base['date'].dt.month_name() # string\n",
    "data_base['week_of_year'] = data_base['date'].dt.week\n",
    "data_base['day_of_month'] = data_base['date'].dt.day.apply(str)\n",
    "data_base['hour_of_day'] = data_base['date'].dt.hour.apply(str)\n",
    "\n",
    "# --------------------\n",
    "print(f'Data starts from [ {time_start} ] to [ {time_end} ].')\n",
    "print(f'Total length : {time_len}')\n"
   ]
  },
  {
   "cell_type": "markdown",
   "metadata": {},
   "source": [
    "# functions"
   ]
  },
  {
   "cell_type": "code",
   "execution_count": 23,
   "metadata": {},
   "outputs": [],
   "source": [
    "def convert2400(time_str):\n",
    "    '''\n",
    "    convert type of time data, string -> datetime\n",
    "    e.g. < string \"2020-01-01 24:00:00\" > to < datetime \"2020-01-02 00:00:00\" >\n",
    "    '''\n",
    "    if \"24:00:00\" in time_str:\n",
    "        tmp = time_str.replace(\"24:00:00\", \"00:00:00\")\n",
    "        tmp = pd.to_datetime(tmp)\n",
    "        tmp = tmp + pd.Timedelta(days=1)\n",
    "    else:\n",
    "        tmp = pd.to_datetime(time_str)\n",
    "    return tmp\n",
    "\n",
    "\n",
    "def new_obs_data(region, data_path):\n",
    "    '''\n",
    "    get fcst data.\n",
    "    '''\n",
    "    # load csv file\n",
    "    df_obs = pd.read_csv(f'{data_path}/new_obs_{region}.csv')\n",
    "\n",
    "    # create empty dataframe\n",
    "    data_obs = pd.DataFrame(columns=['date', 'temperature', 'humidity', \n",
    "                                   'wind_speed', 'wind_direct', 'cloud'])\n",
    "\n",
    "    # wind_direction simplification\n",
    "    bin_boundary = list(range(0, 361, 45))\n",
    "    bin_names = ['NNE', 'ENE', 'ESE', 'SSE', 'SSW', 'WSW', 'WNW', 'NNW']\n",
    "    wd = pd.cut(df_obs['풍향(16방위)'],\n",
    "              bins=bin_boundary,\n",
    "              labels=bin_names,\n",
    "              include_lowest=True)\n",
    "\n",
    "    # fill dataframe\n",
    "    data_obs['date'] = df_obs['일시'].apply(convert2400)\n",
    "    data_obs['temperature'] = df_obs['기온(°C)']\n",
    "    data_obs['wind_speed'] = df_obs['풍속(m/s)']\n",
    "    data_obs['wind_direct'] = wd\n",
    "    data_obs['humidity'] = df_obs['습도(%)']\n",
    "    data_obs['cloud'] = df_obs['전운량(10분위)']\n",
    "    \n",
    "    data_obs['cloud_low'] = df_obs['중하층운량(10분위)']\n",
    "    data_obs['rain'] = df_obs['강수량(mm)']\n",
    "    data_obs['vapor_p'] = df_obs['증기압(hPa)']\n",
    "    data_obs['sea_p'] = df_obs['해면기압(hPa)']\n",
    "    data_obs['sunshine'] = df_obs['일조(hr)']\n",
    "\n",
    "    return data_obs\n",
    "\n",
    "\n",
    "def get_energy_data(data_path):\n",
    "    '''\n",
    "    get energy data.\n",
    "    '''\n",
    "    # load csv file\n",
    "    df_energy = pd.read_csv(f'{data_path}/energy.csv')\n",
    "\n",
    "    # create empty dataframe\n",
    "    data_energy = pd.DataFrame(columns=['date', 'ulsan', 'dj_warehouse',\n",
    "                                      'dj_floating', 'dj'])\n",
    "\n",
    "    # fill dataframe\n",
    "    data_energy['date'] = df_energy['time'].apply(convert2400) - pd.Timedelta(hours=1)\n",
    "    data_energy['ulsan'] = df_energy['ulsan']\n",
    "    data_energy['dj_warehouse'] = df_energy['dangjin_warehouse']\n",
    "    data_energy['dj_floating'] = df_energy['dangjin_floating']\n",
    "    data_energy['dj'] = df_energy['dangjin']\n",
    "\n",
    "    return data_energy\n",
    "\n",
    "def get_plant_energy(data_energy, plant):\n",
    "    '''\n",
    "    get only selected plant energy data\n",
    "    '''\n",
    "    # dictionary for region of plant\n",
    "    dict_region = {'ulsan': 'ulsan',\n",
    "                 'dj_warehouse': 'dangjin',\n",
    "                 'dj_floating': 'dangjin',\n",
    "                 'dj': 'dangjin'}\n",
    "\n",
    "    # create empty dataframe\n",
    "    data_plant_energy = pd.DataFrame(columns=['date', 'energy', 'region', 'plant'])\n",
    "\n",
    "    # choose only selected plant energy\n",
    "    data_plant_energy['date'] = data_energy['date']\n",
    "    data_plant_energy['energy'] = data_energy[plant]\n",
    "    data_plant_energy['region'] = dict_region[plant]\n",
    "    data_plant_energy['plant'] = plant\n",
    "\n",
    "    return data_plant_energy\n",
    "\n",
    "\n",
    "def process_data(data, d_type):\n",
    "    '''\n",
    "    fcst, obs data\n",
    "    interpolation, fill nan values\n",
    "    '''\n",
    "\n",
    "    # copy origin dataframe\n",
    "    data_filled = data.copy()\n",
    "\n",
    "    # drop duplicates\n",
    "    data_filled.drop_duplicates(subset=['date'], keep='last', inplace=True)\n",
    "    data_filled.reset_index(drop=True, inplace=True)\n",
    "\n",
    "    # split columns : real var or categorical var\n",
    "    col_real_linear = ['date', 'temperature', 'humidity', 'wind_speed', 'vapor_p', 'sea_p']\n",
    "    col_real_zero = ['cloud', 'cloud_low', 'rain', 'sunshine']\n",
    "    col_cat = ['wind_direct']\n",
    "\n",
    "    # interpolation\n",
    "    real_linear = data_filled[col_real_linear].copy()\n",
    "    real_zero = data_filled[col_real_zero].copy()\n",
    "    cat = data_filled[col_cat].copy()\n",
    "\n",
    "    real_linear = real_linear.set_index('date')\n",
    "    real_linear = real_linear.interpolate(method='time') # Issue I1\n",
    "    real_linear = real_linear.reset_index()\n",
    "    real_zero.fillna(0, inplace=True) # NaN -> no cloud, rain, sunshine\n",
    "    cat = cat.interpolate(method='ffill')\n",
    "\n",
    "    # apply interpolation\n",
    "    data_filled[col_real_linear] = real_linear\n",
    "    data_filled[col_real_zero] = real_zero\n",
    "    data_filled[col_cat] = cat\n",
    "\n",
    "    return data_filled\n",
    "\n",
    "def process_energy(data):\n",
    "    '''\n",
    "    energy data\n",
    "    interpolation, fill nan values\n",
    "    '''\n",
    "    # copy origin dataframe\n",
    "    data_filled = data.copy()\n",
    "\n",
    "    # drop duplicates\n",
    "    data_filled.drop_duplicates(subset=['date'], keep='last', inplace=True)\n",
    "    data_filled.reset_index(inplace=True)\n",
    "\n",
    "    # interpolation\n",
    "    data_filled = data_filled.set_index('date')\n",
    "    data_filled = data_filled.interpolate(method='time')\n",
    "    data_filled = data_filled.reset_index()\n",
    "\n",
    "    return data_filled"
   ]
  },
  {
   "cell_type": "markdown",
   "metadata": {},
   "source": [
    "# Get dataset and Make origin data"
   ]
  },
  {
   "cell_type": "code",
   "execution_count": 24,
   "metadata": {},
   "outputs": [],
   "source": [
    "\"\"\"\n",
    "< 총 column 개수는 19개 >\n",
    "\n",
    "+ 시간 관련 6개(time, idx, month, week_of_year, day_of_month, hour_of_day)\n",
    "+ fcst 5개(기온, 습도, 풍향, 풍속, 구름)\n",
    "+ obs 5개(기온, 습도, 풍향, 풍속, 구름)\n",
    "+ energy 1개(energy)\n",
    "+ 지역정보 2개(region, plant)\n",
    "\"\"\"\n",
    "\n",
    "# Default Params\n",
    "data_path = './dataset'\n",
    "data_path_new = './new_dataset'\n",
    "region_default = {'dangjin_floating': 'dangjin',\n",
    "                  'dangjin_warehouse': 'dangjin',\n",
    "                  'dangjin': 'dangjin',\n",
    "                  'ulsan': 'ulsan'} # plant, region\n",
    "\n",
    "# dataframes for use\n",
    "data = pd.DataFrame()\n",
    "data_obs_ulsan = new_obs_data('ulsan', data_path_new)\n",
    "data_obs_dangjin = new_obs_data('dangjin', data_path_new)\n",
    "data_energy = get_energy_data(data_path)\n",
    "\n",
    "data_obs_ulsan = pd.merge(data_base, data_obs_ulsan, how='left', on='date')\n",
    "data_obs_dangjin = pd.merge(data_base, data_obs_dangjin, how='left', on='date')\n",
    "data_energy = pd.merge(data_base, data_energy, how='left', on='date')\n",
    "\n",
    "# dataframe에 결측치를 사전에 선형 보간하기\n",
    "data_obs_dangjin = process_data(data_obs_dangjin, 'obs')\n",
    "data_obs_ulsan = process_data(data_obs_ulsan, 'obs')\n",
    "data_energy = process_energy(data_energy)\n",
    "\n",
    "# 출력된 energy에 따라서 plant별로 Dataframe 만들기\n",
    "data_ulsan = pd.DataFrame()         # ulsan\n",
    "data_dj_warehouse = pd.DataFrame()  # dangjin_warehouse\n",
    "data_dj_floating = pd.DataFrame()   # dangjin_floating\n",
    "data_dj = pd.DataFrame()            # dangjin\n",
    "\n",
    "col_time = data_base.columns.to_list()  # 공통으로 가진 column\n",
    "\n",
    "data_ulsan = pd.merge(data_base, data_obs_ulsan, how='left', on=col_time)\n",
    "data_ulsan = pd.merge(data_ulsan, get_plant_energy(data_energy, 'ulsan'),\n",
    "                      how='left', on='date')\n",
    "\n",
    "data_dj_warehouse = pd.merge(data_base, data_obs_dangjin, how='left', on=col_time)\n",
    "data_dj_warehouse = pd.merge(data_dj_warehouse, get_plant_energy(data_energy, 'dj_warehouse'),\n",
    "                             how='left', on='date')\n",
    "\n",
    "data_dj_floating = pd.merge(data_base, data_obs_dangjin, how='left', on=col_time)\n",
    "data_dj_floating = pd.merge(data_dj_floating, get_plant_energy(data_energy, 'dj_floating'),\n",
    "                            how='left', on='date')\n",
    "\n",
    "data_dj = pd.merge(data_base, data_obs_dangjin, how='left', on=col_time)\n",
    "data_dj = pd.merge(data_dj, get_plant_energy(data_energy, 'dj'),\n",
    "                   how='left', on='date')\n",
    "\n",
    "# 모든 data를 합친 Dataframe도 만들기\n",
    "data = pd.concat([data_ulsan, data_dj_warehouse, data_dj_floating, data_dj])\n",
    "\n",
    "# 일단 ulsan data만 해보기\n",
    "data = data_ulsan"
   ]
  },
  {
   "cell_type": "code",
   "execution_count": 25,
   "metadata": {},
   "outputs": [
    {
     "name": "stdout",
     "output_type": "stream",
     "text": [
      "<class 'pandas.core.frame.DataFrame'>\n",
      "Int64Index: 24888 entries, 0 to 24887\n",
      "Data columns (total 19 columns):\n",
      " #   Column        Non-Null Count  Dtype         \n",
      "---  ------        --------------  -----         \n",
      " 0   date          24888 non-null  datetime64[ns]\n",
      " 1   time_idx      24888 non-null  int64         \n",
      " 2   month         24888 non-null  object        \n",
      " 3   week_of_year  24888 non-null  int64         \n",
      " 4   day_of_month  24888 non-null  object        \n",
      " 5   hour_of_day   24888 non-null  object        \n",
      " 6   temperature   24888 non-null  float64       \n",
      " 7   humidity      24888 non-null  float64       \n",
      " 8   wind_speed    24888 non-null  float64       \n",
      " 9   wind_direct   24888 non-null  category      \n",
      " 10  cloud         24888 non-null  float64       \n",
      " 11  cloud_low     24888 non-null  float64       \n",
      " 12  rain          24888 non-null  float64       \n",
      " 13  vapor_p       24888 non-null  float64       \n",
      " 14  sea_p         24888 non-null  float64       \n",
      " 15  sunshine      24888 non-null  float64       \n",
      " 16  energy        24888 non-null  int64         \n",
      " 17  region        24888 non-null  object        \n",
      " 18  plant         24888 non-null  object        \n",
      "dtypes: category(1), datetime64[ns](1), float64(9), int64(3), object(5)\n",
      "memory usage: 3.6+ MB\n"
     ]
    }
   ],
   "source": [
    "data.info()"
   ]
  },
  {
   "cell_type": "code",
   "execution_count": 26,
   "metadata": {},
   "outputs": [
    {
     "data": {
      "text/plain": [
       "date            0\n",
       "time_idx        0\n",
       "month           0\n",
       "week_of_year    0\n",
       "day_of_month    0\n",
       "hour_of_day     0\n",
       "temperature     0\n",
       "humidity        0\n",
       "wind_speed      0\n",
       "wind_direct     0\n",
       "cloud           0\n",
       "cloud_low       0\n",
       "rain            0\n",
       "vapor_p         0\n",
       "sea_p           0\n",
       "sunshine        0\n",
       "energy          0\n",
       "region          0\n",
       "plant           0\n",
       "dtype: int64"
      ]
     },
     "execution_count": 26,
     "metadata": {},
     "output_type": "execute_result"
    }
   ],
   "source": [
    "data.isnull().sum()"
   ]
  },
  {
   "cell_type": "code",
   "execution_count": 28,
   "metadata": {},
   "outputs": [
    {
     "data": {
      "text/plain": [
       "date            0\n",
       "time_idx        0\n",
       "month           0\n",
       "week_of_year    0\n",
       "day_of_month    0\n",
       "hour_of_day     0\n",
       "temperature     0\n",
       "humidity        0\n",
       "wind_speed      0\n",
       "wind_direct     0\n",
       "cloud           0\n",
       "cloud_low       0\n",
       "rain            0\n",
       "vapor_p         0\n",
       "sea_p           0\n",
       "sunshine        0\n",
       "energy          0\n",
       "region          0\n",
       "plant           0\n",
       "dtype: int64"
      ]
     },
     "execution_count": 28,
     "metadata": {},
     "output_type": "execute_result"
    }
   ],
   "source": [
    "data_dj.isnull().sum()"
   ]
  },
  {
   "cell_type": "code",
   "execution_count": null,
   "metadata": {},
   "outputs": [],
   "source": []
  },
  {
   "cell_type": "code",
   "execution_count": null,
   "metadata": {},
   "outputs": [],
   "source": []
  },
  {
   "cell_type": "code",
   "execution_count": null,
   "metadata": {},
   "outputs": [],
   "source": []
  },
  {
   "cell_type": "code",
   "execution_count": null,
   "metadata": {},
   "outputs": [],
   "source": []
  },
  {
   "cell_type": "code",
   "execution_count": null,
   "metadata": {},
   "outputs": [],
   "source": []
  },
  {
   "cell_type": "code",
   "execution_count": null,
   "metadata": {},
   "outputs": [],
   "source": []
  },
  {
   "cell_type": "code",
   "execution_count": null,
   "metadata": {},
   "outputs": [],
   "source": []
  },
  {
   "cell_type": "code",
   "execution_count": null,
   "metadata": {},
   "outputs": [],
   "source": []
  }
 ],
 "metadata": {
  "kernelspec": {
   "display_name": "Python 3",
   "language": "python",
   "name": "python3"
  },
  "language_info": {
   "codemirror_mode": {
    "name": "ipython",
    "version": 3
   },
   "file_extension": ".py",
   "mimetype": "text/x-python",
   "name": "python",
   "nbconvert_exporter": "python",
   "pygments_lexer": "ipython3",
   "version": "3.8.5"
  }
 },
 "nbformat": 4,
 "nbformat_minor": 4
}
