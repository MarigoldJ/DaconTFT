{
 "cells": [
  {
   "cell_type": "markdown",
   "metadata": {},
   "source": [
    "# 예보 데이터 불러오기\n",
    "[한국동서발전 태양광 발전량 현황 인증키 확인](https://data.go.kr/tcs/dss/selectFileDataDetailView.do?publicDataPk=15003553#tab-layer-openapi)\n",
    "\n",
    "[인증키 주소(로그인필요..)](https://data.go.kr/iim/api/selectAPIAcountView.do)"
   ]
  },
  {
   "cell_type": "code",
   "execution_count": 140,
   "metadata": {},
   "outputs": [
    {
     "name": "stdout",
     "output_type": "stream",
     "text": [
      "Requirement already satisfied: xmltodict in c:\\users\\jeony\\anaconda3\\lib\\site-packages (0.12.0)\n"
     ]
    }
   ],
   "source": [
    "! pip install xmltodict"
   ]
  },
  {
   "cell_type": "code",
   "execution_count": 141,
   "metadata": {},
   "outputs": [],
   "source": [
    "import pandas as pd\n",
    "from urllib.parse import urlencode, quote_plus\n",
    "from urllib.request import urlopen\n",
    "import json\n",
    "import xmltodict"
   ]
  },
  {
   "cell_type": "code",
   "execution_count": 1,
   "metadata": {},
   "outputs": [
    {
     "name": "stdout",
     "output_type": "stream",
     "text": [
      "encoded api key를 입력해주세요 > a\n"
     ]
    }
   ],
   "source": [
    "# API\n",
    "ServiceKey = input('encoded api key를 입력해주세요 > ')"
   ]
  },
  {
   "cell_type": "markdown",
   "metadata": {},
   "source": [
    "# 1번째 url 써보기\n",
    "\n",
    "* 각 발전소별로 2018-01-01 ~ 2019-08-31 까지 데이터가 있음"
   ]
  },
  {
   "cell_type": "code",
   "execution_count": 143,
   "metadata": {},
   "outputs": [],
   "source": [
    "def get_energy_json(page, perpage):\n",
    "    # JSON으로 파일받은 뒤 정리하기\n",
    "    url_base1 = 'https://api.odcloud.kr/api/15003553/v1/uddi:34a871be-f9c5-497a-9c69-a9770ff0ec8d'\n",
    "    url_base2 = 'https://api.odcloud.kr/api/15003553/v1/uddi:b6eb07ba-4892-4d15-aa24-b8398a5ceffc'\n",
    "    url_base3 = 'https://api.odcloud.kr/api/15003553/v1/uddi:ad544f1e-b5cc-4f74-acac-a66aca3e8b40'\n",
    "    url_base = url_base1\n",
    "    \n",
    "    key = ServiceKey\n",
    "    queryParams = urlencode({\n",
    "        quote_plus('page'): page,      # 불러오고 싶은만큼 가져오기\n",
    "        quote_plus('perPage'): perpage,\n",
    "    })\n",
    "\n",
    "    url = f'{url_base}?serviceKey={key}&{queryParams}'\n",
    "    response = urlopen(url)\n",
    "    results = response.read().decode('utf-8')\n",
    "\n",
    "    data = pd.read_json(results)\n",
    "    \n",
    "    return data\n",
    "\n",
    "def get_energy_data(data_json):\n",
    "    data_energy = pd.DataFrame()\n",
    "    for i in range(len(data_json)):\n",
    "        # print(f'{i}일차 데이터 가져오기 시작!')\n",
    "        data = data_json.copy()\n",
    "        \n",
    "        dict_data = data.loc[i, 'data']\n",
    "        time = dict_data.pop('시간')\n",
    "        region = dict_data.pop('태양광명')\n",
    "\n",
    "        time_data = pd.DataFrame([dict_data]).T\n",
    "        time_data.reset_index(inplace=True)\n",
    "        time_data.columns = ['hours', '발전량']\n",
    "\n",
    "        time_data['시간'] = time\n",
    "        time_data['date'] = time_data['시간'] + ' ' + time_data['hours'] + ':00:00'\n",
    "        time_data['hours'] = time_data['hours'].astype('int64')\n",
    "        time_data['태양광명'] = region\n",
    "        time_data.sort_values('hours')\n",
    "\n",
    "        col_return = ['date', '발전량', '태양광명']\n",
    "\n",
    "    #     print(time_data[col_return])\n",
    "        data_energy = pd.concat([data_energy, time_data[col_return]])\n",
    "    \n",
    "    return data_energy\n"
   ]
  },
  {
   "cell_type": "code",
   "execution_count": 144,
   "metadata": {},
   "outputs": [
    {
     "name": "stdout",
     "output_type": "stream",
     "text": [
      "(196848, 3)\n"
     ]
    }
   ],
   "source": [
    "y_all = pd.DataFrame()\n",
    "for i in range(10):\n",
    "    x = get_energy_json(i+1, 1000)\n",
    "    y = get_energy_data(x)\n",
    "    y_all = pd.concat([y_all, y])\n",
    "print(y_all.shape)"
   ]
  },
  {
   "cell_type": "code",
   "execution_count": 145,
   "metadata": {},
   "outputs": [
    {
     "name": "stdout",
     "output_type": "stream",
     "text": [
      "                  date  발전량    태양광명\n",
      "0   2018-01-01 1:00:00    0  광양항태양광\n",
      "1  2018-01-01 10:00:00  427  광양항태양광\n",
      "                  date  발전량    태양광명\n",
      "22  2019-08-31 8:00:00  202  광양항태양광\n",
      "23  2019-08-31 9:00:00  383  광양항태양광\n",
      "\n",
      "\n",
      "                  date  발전량        태양광명\n",
      "0   2018-01-01 1:00:00    0  수원환경사업소태양광\n",
      "1  2018-01-01 10:00:00  552  수원환경사업소태양광\n",
      "                  date  발전량        태양광명\n",
      "22  2019-08-31 8:00:00  227  수원환경사업소태양광\n",
      "23  2019-08-31 9:00:00  511  수원환경사업소태양광\n",
      "\n",
      "\n",
      "                  date  발전량       태양광명\n",
      "0   2018-01-01 1:00:00    0  황금물류센터태양광\n",
      "1  2018-01-01 10:00:00  187  황금물류센터태양광\n",
      "                  date  발전량       태양광명\n",
      "22  2019-08-31 8:00:00  126  황금물류센터태양광\n",
      "23  2019-08-31 9:00:00  217  황금물류센터태양광\n",
      "\n",
      "\n",
      "                  date  발전량     태양광명\n",
      "0   2018-01-01 1:00:00    0  당진수상태양광\n",
      "1  2018-01-01 10:00:00  180  당진수상태양광\n",
      "                  date  발전량     태양광명\n",
      "22  2019-08-31 8:00:00   37  당진수상태양광\n",
      "23  2019-08-31 9:00:00  162  당진수상태양광\n",
      "\n",
      "\n",
      "                  date  발전량          태양광명\n",
      "0   2018-01-01 1:00:00    0  동해하수종말처리장태양광\n",
      "1  2018-01-01 10:00:00  776  동해하수종말처리장태양광\n",
      "                  date  발전량          태양광명\n",
      "22  2019-08-31 8:00:00  403  동해하수종말처리장태양광\n",
      "23  2019-08-31 9:00:00  880  동해하수종말처리장태양광\n",
      "\n",
      "\n",
      "                  date  발전량   태양광명\n",
      "0   2018-01-01 1:00:00    0  당진태양광\n",
      "1  2018-01-01 10:00:00  216  당진태양광\n",
      "                  date  발전량   태양광명\n",
      "22  2019-08-31 8:00:00   36  당진태양광\n",
      "23  2019-08-31 9:00:00  218  당진태양광\n",
      "\n",
      "\n",
      "                  date  발전량      태양광명\n",
      "0   2018-01-01 1:00:00    0  당진매립장태양광\n",
      "1  2018-01-01 10:00:00  170  당진매립장태양광\n",
      "                  date  발전량      태양광명\n",
      "22  2019-08-31 8:00:00  136  당진매립장태양광\n",
      "23  2019-08-31 9:00:00  347  당진매립장태양광\n",
      "\n",
      "\n",
      "                  date  발전량   태양광명\n",
      "0   2018-01-01 1:00:00    0  울산태양광\n",
      "1  2018-01-01 10:00:00  160  울산태양광\n",
      "                  date  발전량   태양광명\n",
      "22  2019-08-31 8:00:00   60  울산태양광\n",
      "23  2019-08-31 9:00:00   91  울산태양광\n",
      "\n",
      "\n",
      "                  date  발전량   태양광명\n",
      "0   2018-01-01 1:00:00    0  동해태양광\n",
      "1  2018-01-01 10:00:00   85  동해태양광\n",
      "                  date  발전량   태양광명\n",
      "22  2019-08-31 8:00:00    0  동해태양광\n",
      "23  2019-08-31 9:00:00    0  동해태양광\n",
      "\n",
      "\n",
      "                  date  발전량    태양광명\n",
      "0   2018-01-01 1:00:00    0  영광지산풍력\n",
      "1  2018-01-01 10:00:00    0  영광지산풍력\n",
      "                  date  발전량    태양광명\n",
      "22  2019-08-31 8:00:00   34  영광지산풍력\n",
      "23  2019-08-31 9:00:00    0  영광지산풍력\n",
      "\n",
      "\n",
      "                  date  발전량       태양광명\n",
      "0   2018-01-01 1:00:00    0  당진자재창고태양광\n",
      "1  2018-01-01 10:00:00  125  당진자재창고태양광\n",
      "                  date  발전량       태양광명\n",
      "22  2019-08-31 8:00:00   42  당진자재창고태양광\n",
      "23  2019-08-31 9:00:00  131  당진자재창고태양광\n",
      "\n",
      "\n",
      "                  date  발전량        태양광명\n",
      "0   2018-02-01 1:00:00    0  울산4CC옥상태양광\n",
      "1  2018-02-01 10:00:00  395  울산4CC옥상태양광\n",
      "                  date  발전량        태양광명\n",
      "22  2019-08-31 8:00:00   66  울산4CC옥상태양광\n",
      "23  2019-08-31 9:00:00   87  울산4CC옥상태양광\n",
      "\n",
      "\n",
      "                  date  발전량        태양광명\n",
      "0   2018-05-01 1:00:00    0  당진옥내저탄장태양광\n",
      "1  2018-05-01 10:00:00  818  당진옥내저탄장태양광\n",
      "                  date  발전량        태양광명\n",
      "22  2019-08-31 8:00:00  221  당진옥내저탄장태양광\n",
      "23  2019-08-31 9:00:00  791  당진옥내저탄장태양광\n",
      "\n",
      "\n",
      "                  date  발전량         태양광명\n",
      "0   2019-01-01 1:00:00    0  당진제2회처리장태양광\n",
      "1  2019-01-01 10:00:00  334  당진제2회처리장태양광\n",
      "                  date   발전량         태양광명\n",
      "22  2019-08-31 8:00:00   523  당진제2회처리장태양광\n",
      "23  2019-08-31 9:00:00  1207  당진제2회처리장태양광\n",
      "\n",
      "\n",
      "                  date  발전량        태양광명\n",
      "0   2019-01-01 1:00:00    0  당진후문주차장태양광\n",
      "1  2019-01-01 10:00:00   87  당진후문주차장태양광\n",
      "                  date  발전량        태양광명\n",
      "22  2019-08-31 8:00:00   84  당진후문주차장태양광\n",
      "23  2019-08-31 9:00:00  261  당진후문주차장태양광\n",
      "\n",
      "\n"
     ]
    }
   ],
   "source": [
    "names = y_all['태양광명'].value_counts().index.to_list()\n",
    "for name in names:\n",
    "    print(y_all[y_all['태양광명'] == name].iloc[:2, :])\n",
    "    print(y_all[y_all['태양광명'] == name].iloc[-2:, :])\n",
    "    print('\\n')\n"
   ]
  },
  {
   "cell_type": "markdown",
   "metadata": {},
   "source": [
    "# 2번째 url 써보기\n",
    "\n",
    "* 각 발전소별로 2015-01-01 ~ 2017-12-31 까지 데이터가 있음"
   ]
  },
  {
   "cell_type": "code",
   "execution_count": 146,
   "metadata": {},
   "outputs": [],
   "source": [
    "def get_energy_json(page, perpage):\n",
    "    # JSON으로 파일받은 뒤 정리하기\n",
    "    url_base1 = 'https://api.odcloud.kr/api/15003553/v1/uddi:34a871be-f9c5-497a-9c69-a9770ff0ec8d'\n",
    "    url_base2 = 'https://api.odcloud.kr/api/15003553/v1/uddi:b6eb07ba-4892-4d15-aa24-b8398a5ceffc'\n",
    "    url_base3 = 'https://api.odcloud.kr/api/15003553/v1/uddi:ad544f1e-b5cc-4f74-acac-a66aca3e8b40'\n",
    "    url_base = url_base2\n",
    "    \n",
    "    key = ServiceKey\n",
    "    queryParams = urlencode({\n",
    "        quote_plus('page'): page,      # 불러오고 싶은만큼 가져오기\n",
    "        quote_plus('perPage'): perpage,\n",
    "    })\n",
    "\n",
    "    url = f'{url_base}?serviceKey={key}&{queryParams}'\n",
    "    response = urlopen(url)\n",
    "    results = response.read().decode('utf-8')\n",
    "\n",
    "    data = pd.read_json(results)\n",
    "    \n",
    "    return data\n",
    "\n",
    "def get_energy_data(data_json):\n",
    "    data_energy = pd.DataFrame()\n",
    "    for i in range(len(data_json)):\n",
    "        # print(f'{i}일차 데이터 가져오기 시작!')\n",
    "        data = data_json.copy()\n",
    "        \n",
    "        dict_data = data.loc[i, 'data']\n",
    "        time = dict_data.pop('시간')\n",
    "        region = dict_data.pop('태양광명')\n",
    "        elec = dict_data.pop('용량(MW)')\n",
    "\n",
    "        time_data = pd.DataFrame([dict_data]).T\n",
    "        time_data.reset_index(inplace=True)\n",
    "        time_data.columns = ['hours', '발전량']\n",
    "\n",
    "        time_data['시간'] = time\n",
    "        time_data['date'] = time_data['시간'] + ' ' + time_data['hours'] + ':00:00'\n",
    "        time_data['hours'] = time_data['hours'].astype('int64')\n",
    "        time_data['태양광명'] = region\n",
    "        time_data['용량(MW)'] = elec\n",
    "        time_data.sort_values('hours')\n",
    "\n",
    "        col_return = ['date', '발전량', '태양광명', '용량(MW)']\n",
    "\n",
    "    #     print(time_data[col_return])\n",
    "        data_energy = pd.concat([data_energy, time_data[col_return]])\n",
    "    \n",
    "    return data_energy\n"
   ]
  },
  {
   "cell_type": "code",
   "execution_count": 147,
   "metadata": {},
   "outputs": [
    {
     "name": "stdout",
     "output_type": "stream",
     "text": [
      "(234912, 4)\n"
     ]
    }
   ],
   "source": [
    "y_all = pd.DataFrame()\n",
    "for i in range(10):\n",
    "    x = get_energy_json(i+1, 1000)\n",
    "    y = get_energy_data(x)\n",
    "    y_all = pd.concat([y_all, y])\n",
    "print(y_all.shape)"
   ]
  },
  {
   "cell_type": "code",
   "execution_count": 148,
   "metadata": {},
   "outputs": [
    {
     "name": "stdout",
     "output_type": "stream",
     "text": [
      "                  date  발전량   태양광명 용량(MW)\n",
      "0   2015-01-01 1:00:00    0  동해태양광      1\n",
      "1  2015-01-01 10:00:00  170  동해태양광      1\n",
      "                  date  발전량   태양광명 용량(MW)\n",
      "22  2017-12-31 8:00:00    0  동해태양광      1\n",
      "23  2017-12-31 9:00:00   15  동해태양광      1\n",
      "\n",
      "\n",
      "                  date  발전량    태양광명 용량(MW)\n",
      "0   2015-01-01 1:00:00    0  광양항태양광    2.3\n",
      "1  2015-01-01 10:00:00  430  광양항태양광    2.3\n",
      "                  date  발전량    태양광명 용량(MW)\n",
      "22  2017-12-31 8:00:00    0  광양항태양광    2.3\n",
      "23  2017-12-31 9:00:00  112  광양항태양광    2.3\n",
      "\n",
      "\n",
      "                  date  발전량        태양광명 용량(MW)\n",
      "0   2015-01-01 1:00:00    0  수원환경사업소태양광    1.5\n",
      "1  2015-01-01 10:00:00  604  수원환경사업소태양광    1.5\n",
      "                  date  발전량        태양광명 용량(MW)\n",
      "22  2017-12-31 8:00:00    0  수원환경사업소태양광    1.5\n",
      "23  2017-12-31 9:00:00   83  수원환경사업소태양광    1.5\n",
      "\n",
      "\n",
      "                  date  발전량       태양광명 용량(MW)\n",
      "0   2015-01-01 1:00:00    0  황금물류센터태양광    1.1\n",
      "1  2015-01-01 10:00:00  230  황금물류센터태양광    1.1\n",
      "                  date  발전량       태양광명 용량(MW)\n",
      "22  2017-12-31 8:00:00    0  황금물류센터태양광    1.1\n",
      "23  2017-12-31 9:00:00   51  황금물류센터태양광    1.1\n",
      "\n",
      "\n",
      "                  date  발전량      태양광명 용량(MW)\n",
      "0   2015-01-01 1:00:00    0  당진매립지태양광    1.3\n",
      "1  2015-01-01 10:00:00  131  당진매립지태양광    1.3\n",
      "                  date  발전량      태양광명 용량(MW)\n",
      "22  2017-12-31 8:00:00    0  당진매립지태양광    1.3\n",
      "23  2017-12-31 9:00:00    9  당진매립지태양광    1.3\n",
      "\n",
      "\n",
      "                  date  발전량      태양광명 용량(MW)\n",
      "0   2015-01-01 1:00:00    0  당진취수로태양광      1\n",
      "1  2015-01-01 10:00:00  173  당진취수로태양광      1\n",
      "                  date  발전량      태양광명 용량(MW)\n",
      "22  2017-12-31 8:00:00    0  당진취수로태양광      1\n",
      "23  2017-12-31 9:00:00   34  당진취수로태양광      1\n",
      "\n",
      "\n",
      "                  date  발전량       태양광명 용량(MW)\n",
      "0   2015-01-01 1:00:00    0  당진자재창고태양광    0.7\n",
      "1  2015-01-01 10:00:00  150  당진자재창고태양광    0.7\n",
      "                  date  발전량       태양광명 용량(MW)\n",
      "22  2017-12-31 8:00:00    0  당진자재창고태양광    0.7\n",
      "23  2017-12-31 9:00:00   25  당진자재창고태양광    0.7\n",
      "\n",
      "\n",
      "                  date  발전량   태양광명 용량(MW)\n",
      "0   2015-01-01 1:00:00    0  당진태양광      1\n",
      "1  2015-01-01 10:00:00  227  당진태양광      1\n",
      "                  date  발전량   태양광명 용량(MW)\n",
      "22  2017-12-31 8:00:00    0  당진태양광      1\n",
      "23  2017-12-31 9:00:00   38  당진태양광      1\n",
      "\n",
      "\n",
      "                  date  발전량   태양광명 용량(MW)\n",
      "0   2015-01-01 1:00:00    0  울산태양광    0.5\n",
      "1  2015-01-01 10:00:00    0  울산태양광    0.5\n",
      "                  date  발전량   태양광명 용량(MW)\n",
      "22  2017-12-31 8:00:00    0  울산태양광    0.5\n",
      "23  2017-12-31 9:00:00   39  울산태양광    0.5\n",
      "\n",
      "\n"
     ]
    }
   ],
   "source": [
    "names = y_all['태양광명'].value_counts().index.to_list()\n",
    "for name in names:\n",
    "    print(y_all[y_all['태양광명'] == name].iloc[:2, :])\n",
    "    print(y_all[y_all['태양광명'] == name].iloc[-2:, :])\n",
    "    print('\\n')\n"
   ]
  },
  {
   "cell_type": "code",
   "execution_count": null,
   "metadata": {},
   "outputs": [],
   "source": []
  },
  {
   "cell_type": "markdown",
   "metadata": {},
   "source": [
    "# 3번째 url 써보기\n",
    "\n",
    "* 각 발전소별로 2017-07-01 ~ 2019-08-31 까지 데이터가 있음"
   ]
  },
  {
   "cell_type": "code",
   "execution_count": 149,
   "metadata": {},
   "outputs": [],
   "source": [
    "def get_energy_json(page, perpage):\n",
    "    # JSON으로 파일받은 뒤 정리하기\n",
    "    url_base1 = 'https://api.odcloud.kr/api/15003553/v1/uddi:34a871be-f9c5-497a-9c69-a9770ff0ec8d'\n",
    "    url_base2 = 'https://api.odcloud.kr/api/15003553/v1/uddi:b6eb07ba-4892-4d15-aa24-b8398a5ceffc'\n",
    "    url_base3 = 'https://api.odcloud.kr/api/15003553/v1/uddi:ad544f1e-b5cc-4f74-acac-a66aca3e8b40'\n",
    "    url_base = url_base3\n",
    "    \n",
    "    key = ServiceKey\n",
    "    queryParams = urlencode({\n",
    "        quote_plus('page'): page,      # 불러오고 싶은만큼 가져오기\n",
    "        quote_plus('perPage'): perpage,\n",
    "    })\n",
    "\n",
    "    url = f'{url_base}?serviceKey={key}&{queryParams}'\n",
    "    response = urlopen(url)\n",
    "    results = response.read().decode('utf-8')\n",
    "\n",
    "    data = pd.read_json(results)\n",
    "    \n",
    "    return data\n",
    "\n",
    "def get_energy_data(data_json):\n",
    "    data_energy = pd.DataFrame()\n",
    "    for i in range(len(data_json)):\n",
    "        # print(f'{i}일차 데이터 가져오기 시작!')\n",
    "        data = data_json.copy()\n",
    "        \n",
    "        dict_data = data.loc[i, 'data']\n",
    "        time = dict_data.pop('일시')\n",
    "        region = dict_data.pop('구분')\n",
    "\n",
    "        time_data = pd.DataFrame([dict_data]).T\n",
    "        time_data.reset_index(inplace=True)\n",
    "        time_data.columns = ['hours', '발전량']\n",
    "        \n",
    "        time_data['hours'] = time_data['hours'].apply(lambda x: x[:-1])\n",
    "\n",
    "        time_data['시간'] = time\n",
    "        time_data['date'] = time_data['시간'] + ' ' + time_data['hours'] + ':00:00'\n",
    "        time_data['hours'] = time_data['hours'].astype('int64')\n",
    "        time_data['태양광명'] = region\n",
    "        time_data.sort_values('hours')\n",
    "\n",
    "        col_return = ['date', '발전량', '태양광명']\n",
    "\n",
    "    #     print(time_data[col_return])\n",
    "        data_energy = pd.concat([data_energy, time_data[col_return]])\n",
    "    \n",
    "    return data_energy\n"
   ]
  },
  {
   "cell_type": "code",
   "execution_count": 150,
   "metadata": {},
   "outputs": [
    {
     "name": "stdout",
     "output_type": "stream",
     "text": [
      "(74904, 3)\n"
     ]
    }
   ],
   "source": [
    "y_all = pd.DataFrame()\n",
    "for i in range(10):\n",
    "    x = get_energy_json(i+1, 1000)\n",
    "    y = get_energy_data(x)\n",
    "    y_all = pd.concat([y_all, y])\n",
    "print(y_all.shape)"
   ]
  },
  {
   "cell_type": "code",
   "execution_count": 151,
   "metadata": {},
   "outputs": [
    {
     "name": "stdout",
     "output_type": "stream",
     "text": [
      "                  date  발전량      태양광명\n",
      "0  2017-07-01 10:00:00  161  당진매립장태양광\n",
      "1  2017-07-01 11:00:00  509  당진매립장태양광\n",
      "                  date  발전량      태양광명\n",
      "22  2020-07-26 8:00:00  205  당진매립장태양광\n",
      "23  2020-07-26 9:00:00  278  당진매립장태양광\n",
      "\n",
      "\n",
      "                  date  발전량        태양광명\n",
      "0  2017-07-01 10:00:00  256  수원하수처리장태양광\n",
      "1  2017-07-01 11:00:00  481  수원하수처리장태양광\n",
      "                  date  발전량        태양광명\n",
      "22  2020-06-30 8:00:00   62  수원하수처리장태양광\n",
      "23  2020-06-30 9:00:00  155  수원하수처리장태양광\n",
      "\n",
      "\n",
      "                  date   발전량           태양광명\n",
      "0  2018-01-01 10:00:00   776  동해하수종말처리장 태양광\n",
      "1  2018-01-01 11:00:00  1361  동해하수종말처리장 태양광\n",
      "                  date  발전량           태양광명\n",
      "22  2020-06-30 8:00:00   50  동해하수종말처리장 태양광\n",
      "23  2020-06-30 9:00:00  184  동해하수종말처리장 태양광\n",
      "\n",
      "\n"
     ]
    }
   ],
   "source": [
    "names = y_all['태양광명'].value_counts().index.to_list()\n",
    "for name in names:\n",
    "    print(y_all[y_all['태양광명'] == name].iloc[:2, :])\n",
    "    print(y_all[y_all['태양광명'] == name].iloc[-2:, :])\n",
    "    print('\\n')\n"
   ]
  },
  {
   "cell_type": "code",
   "execution_count": null,
   "metadata": {},
   "outputs": [],
   "source": []
  },
  {
   "cell_type": "markdown",
   "metadata": {},
   "source": [
    "# 여기 밑으로는 무시"
   ]
  },
  {
   "cell_type": "code",
   "execution_count": null,
   "metadata": {},
   "outputs": [],
   "source": []
  }
 ],
 "metadata": {
  "kernelspec": {
   "display_name": "Python 3",
   "language": "python",
   "name": "python3"
  },
  "language_info": {
   "codemirror_mode": {
    "name": "ipython",
    "version": 3
   },
   "file_extension": ".py",
   "mimetype": "text/x-python",
   "name": "python",
   "nbconvert_exporter": "python",
   "pygments_lexer": "ipython3",
   "version": "3.8.5"
  }
 },
 "nbformat": 4,
 "nbformat_minor": 4
}
