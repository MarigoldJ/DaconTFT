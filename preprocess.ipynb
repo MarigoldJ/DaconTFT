{
 "metadata": {
  "language_info": {
   "codemirror_mode": {
    "name": "ipython",
    "version": 3
   },
   "file_extension": ".py",
   "mimetype": "text/x-python",
   "name": "python",
   "nbconvert_exporter": "python",
   "pygments_lexer": "ipython3",
   "version": "3.9.4"
  },
  "orig_nbformat": 2,
  "kernelspec": {
   "name": "python394jvsc74a57bd0ee5cc6fef2d70a7e71ee3826687cbd150f18158e0b1eef11d4f4f92bb920e304",
   "display_name": "Python 3.9.4 64-bit"
  },
  "metadata": {
   "interpreter": {
    "hash": "ee5cc6fef2d70a7e71ee3826687cbd150f18158e0b1eef11d4f4f92bb920e304"
   }
  }
 },
 "nbformat": 4,
 "nbformat_minor": 2,
 "cells": [
  {
   "cell_type": "code",
   "execution_count": 2,
   "metadata": {},
   "outputs": [],
   "source": [
    "from config import folder\n",
    "import pandas as pd\n",
    "import numpy as np\n",
    "\n",
    "pd.set_option('max_rows', 15)\n",
    "pd.set_option('max_columns', 15)\n",
    "\n",
    "path_fcst = folder.get_dataset_path('ulsan_fcst_data.csv')\n",
    "path_obs = folder.get_dataset_path('ulsan_obs_data.csv')\n",
    "path_energy = folder.get_dataset_path('energy.csv')\n",
    "\n",
    "df_fcst = pd.read_csv(path_fcst)\n",
    "df_obs = pd.read_csv(path_obs)\n",
    "df_energy = pd.read_csv(path_energy)"
   ]
  },
  {
   "cell_type": "code",
   "execution_count": 10,
   "metadata": {},
   "outputs": [
    {
     "output_type": "execute_result",
     "data": {
      "text/plain": [
       "              Forecast time  forecast  Temperature  Humidity  WindSpeed  \\\n",
       "0       2018-03-01 11:00:00       4.0          8.0      20.0       14.0   \n",
       "162207  2021-03-01 08:00:00      64.0          4.0      80.0        0.7   \n",
       "\n",
       "        WindDirection  Cloud  \n",
       "0               298.0    2.0  \n",
       "162207          188.0    3.0  "
      ],
      "text/html": "<div>\n<style scoped>\n    .dataframe tbody tr th:only-of-type {\n        vertical-align: middle;\n    }\n\n    .dataframe tbody tr th {\n        vertical-align: top;\n    }\n\n    .dataframe thead th {\n        text-align: right;\n    }\n</style>\n<table border=\"1\" class=\"dataframe\">\n  <thead>\n    <tr style=\"text-align: right;\">\n      <th></th>\n      <th>Forecast time</th>\n      <th>forecast</th>\n      <th>Temperature</th>\n      <th>Humidity</th>\n      <th>WindSpeed</th>\n      <th>WindDirection</th>\n      <th>Cloud</th>\n    </tr>\n  </thead>\n  <tbody>\n    <tr>\n      <th>0</th>\n      <td>2018-03-01 11:00:00</td>\n      <td>4.0</td>\n      <td>8.0</td>\n      <td>20.0</td>\n      <td>14.0</td>\n      <td>298.0</td>\n      <td>2.0</td>\n    </tr>\n    <tr>\n      <th>162207</th>\n      <td>2021-03-01 08:00:00</td>\n      <td>64.0</td>\n      <td>4.0</td>\n      <td>80.0</td>\n      <td>0.7</td>\n      <td>188.0</td>\n      <td>3.0</td>\n    </tr>\n  </tbody>\n</table>\n</div>"
     },
     "metadata": {},
     "execution_count": 10
    }
   ],
   "source": [
    "df_fcst.iloc[[0, -1]]"
   ]
  },
  {
   "cell_type": "code",
   "execution_count": 11,
   "metadata": {},
   "outputs": [
    {
     "output_type": "execute_result",
     "data": {
      "text/plain": [
       "        지점 지점명                일시  기온(°C)  풍속(m/s)  풍향(16방위)  습도(%)  전운량(10분위)\n",
       "0      152  울산  2018-03-01 00:00     8.2      3.9     340.0   98.0       10.0\n",
       "25631  152  울산  2021-01-31 23:00     9.3      3.1     200.0   56.0        9.0"
      ],
      "text/html": "<div>\n<style scoped>\n    .dataframe tbody tr th:only-of-type {\n        vertical-align: middle;\n    }\n\n    .dataframe tbody tr th {\n        vertical-align: top;\n    }\n\n    .dataframe thead th {\n        text-align: right;\n    }\n</style>\n<table border=\"1\" class=\"dataframe\">\n  <thead>\n    <tr style=\"text-align: right;\">\n      <th></th>\n      <th>지점</th>\n      <th>지점명</th>\n      <th>일시</th>\n      <th>기온(°C)</th>\n      <th>풍속(m/s)</th>\n      <th>풍향(16방위)</th>\n      <th>습도(%)</th>\n      <th>전운량(10분위)</th>\n    </tr>\n  </thead>\n  <tbody>\n    <tr>\n      <th>0</th>\n      <td>152</td>\n      <td>울산</td>\n      <td>2018-03-01 00:00</td>\n      <td>8.2</td>\n      <td>3.9</td>\n      <td>340.0</td>\n      <td>98.0</td>\n      <td>10.0</td>\n    </tr>\n    <tr>\n      <th>25631</th>\n      <td>152</td>\n      <td>울산</td>\n      <td>2021-01-31 23:00</td>\n      <td>9.3</td>\n      <td>3.1</td>\n      <td>200.0</td>\n      <td>56.0</td>\n      <td>9.0</td>\n    </tr>\n  </tbody>\n</table>\n</div>"
     },
     "metadata": {},
     "execution_count": 11
    }
   ],
   "source": [
    "df_obs.iloc[[0, -1]]"
   ]
  },
  {
   "cell_type": "code",
   "execution_count": 12,
   "metadata": {},
   "outputs": [
    {
     "output_type": "execute_result",
     "data": {
      "text/plain": [
       "                      time  dangjin_floating  dangjin_warehouse  dangjin  \\\n",
       "0       2018-03-01 1:00:00               0.0                0.0        0   \n",
       "25631  2021-01-31 24:00:00               0.0                0.0        0   \n",
       "\n",
       "       ulsan  \n",
       "0          0  \n",
       "25631      0  "
      ],
      "text/html": "<div>\n<style scoped>\n    .dataframe tbody tr th:only-of-type {\n        vertical-align: middle;\n    }\n\n    .dataframe tbody tr th {\n        vertical-align: top;\n    }\n\n    .dataframe thead th {\n        text-align: right;\n    }\n</style>\n<table border=\"1\" class=\"dataframe\">\n  <thead>\n    <tr style=\"text-align: right;\">\n      <th></th>\n      <th>time</th>\n      <th>dangjin_floating</th>\n      <th>dangjin_warehouse</th>\n      <th>dangjin</th>\n      <th>ulsan</th>\n    </tr>\n  </thead>\n  <tbody>\n    <tr>\n      <th>0</th>\n      <td>2018-03-01 1:00:00</td>\n      <td>0.0</td>\n      <td>0.0</td>\n      <td>0</td>\n      <td>0</td>\n    </tr>\n    <tr>\n      <th>25631</th>\n      <td>2021-01-31 24:00:00</td>\n      <td>0.0</td>\n      <td>0.0</td>\n      <td>0</td>\n      <td>0</td>\n    </tr>\n  </tbody>\n</table>\n</div>"
     },
     "metadata": {},
     "execution_count": 12
    }
   ],
   "source": [
    "df_energy.iloc[[0, -1]]"
   ]
  },
  {
   "cell_type": "code",
   "execution_count": 39,
   "metadata": {},
   "outputs": [],
   "source": [
    "df_fcst1 = pd.DataFrame(columns=[['time', 'forecast', 'forecast', 'forecast', 'forecast', 'forecast'], ['time', 'temperature', 'humidity', 'wind_speed', 'wind_direction', 'cloud']])\n",
    "df_obs1 = df_obs.copy()\n",
    "df_energy1 = df_energy.copy()\n",
    "# multi column 쓰면 어떨까?"
   ]
  },
  {
   "cell_type": "code",
   "execution_count": 38,
   "metadata": {},
   "outputs": [],
   "source": [
    "def convert2400(time_str):\n",
    "    if \"24:00:00\" in time_str:\n",
    "        tmp = time_str.replace(\"24:00:00\", \"00:00:00\")\n",
    "        tmp = pd.to_datetime(tmp)\n",
    "        tmp = tmp + pd.Timedelta(days=1)\n",
    "    else:\n",
    "        tmp = pd.to_datetime(time_str)\n",
    "    \n",
    "    return tmp\n",
    "\n",
    "a = df_energy['time']\n",
    "\n",
    "df_energy1['time'] = df_energy1['time'].apply(convert2400)\n",
    "df_obs1['time'] = pd.to_datetime(df_obs1['일시'])\n"
   ]
  },
  {
   "cell_type": "code",
   "execution_count": null,
   "metadata": {},
   "outputs": [],
   "source": []
  },
  {
   "cell_type": "code",
   "execution_count": 35,
   "metadata": {},
   "outputs": [
    {
     "output_type": "execute_result",
     "data": {
      "text/plain": [
       "                     time\n",
       "0     2018-03-01 00:00:00\n",
       "1     2018-03-01 01:00:00\n",
       "2     2018-03-01 02:00:00\n",
       "3     2018-03-01 03:00:00\n",
       "4     2018-03-01 04:00:00\n",
       "...                   ...\n",
       "25627 2021-01-31 19:00:00\n",
       "25628 2021-01-31 20:00:00\n",
       "25629 2021-01-31 21:00:00\n",
       "25630 2021-01-31 22:00:00\n",
       "25631 2021-01-31 23:00:00\n",
       "\n",
       "[25632 rows x 1 columns]"
      ],
      "text/html": "<div>\n<style scoped>\n    .dataframe tbody tr th:only-of-type {\n        vertical-align: middle;\n    }\n\n    .dataframe tbody tr th {\n        vertical-align: top;\n    }\n\n    .dataframe thead th {\n        text-align: right;\n    }\n</style>\n<table border=\"1\" class=\"dataframe\">\n  <thead>\n    <tr style=\"text-align: right;\">\n      <th></th>\n      <th>time</th>\n    </tr>\n  </thead>\n  <tbody>\n    <tr>\n      <th>0</th>\n      <td>2018-03-01 00:00:00</td>\n    </tr>\n    <tr>\n      <th>1</th>\n      <td>2018-03-01 01:00:00</td>\n    </tr>\n    <tr>\n      <th>2</th>\n      <td>2018-03-01 02:00:00</td>\n    </tr>\n    <tr>\n      <th>3</th>\n      <td>2018-03-01 03:00:00</td>\n    </tr>\n    <tr>\n      <th>4</th>\n      <td>2018-03-01 04:00:00</td>\n    </tr>\n    <tr>\n      <th>...</th>\n      <td>...</td>\n    </tr>\n    <tr>\n      <th>25627</th>\n      <td>2021-01-31 19:00:00</td>\n    </tr>\n    <tr>\n      <th>25628</th>\n      <td>2021-01-31 20:00:00</td>\n    </tr>\n    <tr>\n      <th>25629</th>\n      <td>2021-01-31 21:00:00</td>\n    </tr>\n    <tr>\n      <th>25630</th>\n      <td>2021-01-31 22:00:00</td>\n    </tr>\n    <tr>\n      <th>25631</th>\n      <td>2021-01-31 23:00:00</td>\n    </tr>\n  </tbody>\n</table>\n<p>25632 rows × 1 columns</p>\n</div>"
     },
     "metadata": {},
     "execution_count": 35
    }
   ],
   "source": [
    "# time base\n",
    "delta = pd.to_timedelta(np.arange(len(df_obs)), unit='h')\n",
    "time_start = pd.to_datetime(df_obs.loc[0, '일시'])\n",
    "\n",
    "time_base = time_start + delta\n",
    "# print(time_base)\n",
    "\n",
    "time_base = pd.DataFrame(time_base, columns=['time'])\n",
    "time_base_str = time_base.astype('str')\n",
    "time_base"
   ]
  },
  {
   "cell_type": "code",
   "execution_count": 40,
   "metadata": {},
   "outputs": [
    {
     "output_type": "execute_result",
     "data": {
      "text/plain": [
       "Empty DataFrame\n",
       "Columns: [(time, time), (forecast, temperature), (forecast, humidity), (forecast, wind_speed), (forecast, wind_direction), (forecast, cloud)]\n",
       "Index: []"
      ],
      "text/html": "<div>\n<style scoped>\n    .dataframe tbody tr th:only-of-type {\n        vertical-align: middle;\n    }\n\n    .dataframe tbody tr th {\n        vertical-align: top;\n    }\n\n    .dataframe thead tr th {\n        text-align: left;\n    }\n</style>\n<table border=\"1\" class=\"dataframe\">\n  <thead>\n    <tr>\n      <th></th>\n      <th>time</th>\n      <th colspan=\"5\" halign=\"left\">forecast</th>\n    </tr>\n    <tr>\n      <th></th>\n      <th>time</th>\n      <th>temperature</th>\n      <th>humidity</th>\n      <th>wind_speed</th>\n      <th>wind_direction</th>\n      <th>cloud</th>\n    </tr>\n  </thead>\n  <tbody>\n  </tbody>\n</table>\n</div>"
     },
     "metadata": {},
     "execution_count": 40
    }
   ],
   "source": [
    "df_fcst1"
   ]
  },
  {
   "cell_type": "code",
   "execution_count": 43,
   "metadata": {},
   "outputs": [
    {
     "output_type": "execute_result",
     "data": {
      "text/plain": [
       "  time    forecast                                         \n",
       "  time temperature humidity wind_speed wind_direction cloud\n",
       "0    1           2        3          4              5     6\n",
       "1    1           2        3          4              5     6"
      ],
      "text/html": "<div>\n<style scoped>\n    .dataframe tbody tr th:only-of-type {\n        vertical-align: middle;\n    }\n\n    .dataframe tbody tr th {\n        vertical-align: top;\n    }\n\n    .dataframe thead tr th {\n        text-align: left;\n    }\n</style>\n<table border=\"1\" class=\"dataframe\">\n  <thead>\n    <tr>\n      <th></th>\n      <th>time</th>\n      <th colspan=\"5\" halign=\"left\">forecast</th>\n    </tr>\n    <tr>\n      <th></th>\n      <th>time</th>\n      <th>temperature</th>\n      <th>humidity</th>\n      <th>wind_speed</th>\n      <th>wind_direction</th>\n      <th>cloud</th>\n    </tr>\n  </thead>\n  <tbody>\n    <tr>\n      <th>0</th>\n      <td>1</td>\n      <td>2</td>\n      <td>3</td>\n      <td>4</td>\n      <td>5</td>\n      <td>6</td>\n    </tr>\n    <tr>\n      <th>1</th>\n      <td>1</td>\n      <td>2</td>\n      <td>3</td>\n      <td>4</td>\n      <td>5</td>\n      <td>6</td>\n    </tr>\n  </tbody>\n</table>\n</div>"
     },
     "metadata": {},
     "execution_count": 43
    }
   ],
   "source": [
    "df_fcst1.loc[len(df_fcst1)] = [1, 2, 3, 4, 5, 6]\n",
    "df_fcst1"
   ]
  },
  {
   "cell_type": "code",
   "execution_count": 48,
   "metadata": {},
   "outputs": [
    {
     "output_type": "execute_result",
     "data": {
      "text/plain": [
       "  temperature\n",
       "0           2\n",
       "1           2"
      ],
      "text/html": "<div>\n<style scoped>\n    .dataframe tbody tr th:only-of-type {\n        vertical-align: middle;\n    }\n\n    .dataframe tbody tr th {\n        vertical-align: top;\n    }\n\n    .dataframe thead th {\n        text-align: right;\n    }\n</style>\n<table border=\"1\" class=\"dataframe\">\n  <thead>\n    <tr style=\"text-align: right;\">\n      <th></th>\n      <th>temperature</th>\n    </tr>\n  </thead>\n  <tbody>\n    <tr>\n      <th>0</th>\n      <td>2</td>\n    </tr>\n    <tr>\n      <th>1</th>\n      <td>2</td>\n    </tr>\n  </tbody>\n</table>\n</div>"
     },
     "metadata": {},
     "execution_count": 48
    }
   ],
   "source": [
    "df_fcst1['forecast'][['temperature']]"
   ]
  }
 ]
}